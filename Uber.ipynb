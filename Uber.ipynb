{
  "nbformat": 4,
  "nbformat_minor": 0,
  "metadata": {
    "colab": {
      "name": "Uber.ipynb",
      "version": "0.3.2",
      "provenance": [],
      "collapsed_sections": []
    },
    "kernelspec": {
      "name": "python3",
      "display_name": "Python 3"
    },
    "accelerator": "GPU"
  },
  "cells": [
    {
      "cell_type": "markdown",
      "metadata": {
        "id": "cntqeBuaPaB9",
        "colab_type": "text"
      },
      "source": [
        "# Uber ride reviews"
      ]
    },
    {
      "cell_type": "markdown",
      "metadata": {
        "id": "mBk3fjzDzjJV",
        "colab_type": "text"
      },
      "source": [
        "####***prepared by Nabil Affo***"
      ]
    },
    {
      "cell_type": "code",
      "metadata": {
        "id": "y4g7i27-QPHs",
        "colab_type": "code",
        "outputId": "948ba886-ce72-45e7-b931-3f9b02789cf8",
        "colab": {
          "base_uri": "https://localhost:8080/",
          "height": 50
        }
      },
      "source": [
        "  !curl -s https://course.fast.ai/setup/colab | bash"
      ],
      "execution_count": 0,
      "outputs": [
        {
          "output_type": "stream",
          "text": [
            "Updating fastai...\n",
            "Done.\n"
          ],
          "name": "stdout"
        }
      ]
    },
    {
      "cell_type": "code",
      "metadata": {
        "id": "loU2vKERZSo6",
        "colab_type": "code",
        "outputId": "ceff5f4d-d13f-433f-cb6b-68ddced3127c",
        "colab": {
          "base_uri": "https://localhost:8080/",
          "height": 34
        }
      },
      "source": [
        "from google.colab import drive\n",
        "drive.mount('/content/gdrive', force_remount=True)\n",
        "root_dir = \"/content/gdrive/My Drive/\"\n",
        "base_dir = root_dir + 'fastai-v3/'"
      ],
      "execution_count": 0,
      "outputs": [
        {
          "output_type": "stream",
          "text": [
            "Mounted at /content/gdrive\n"
          ],
          "name": "stdout"
        }
      ]
    },
    {
      "cell_type": "code",
      "metadata": {
        "id": "QEtRov3vPaB_",
        "colab_type": "code",
        "colab": {}
      },
      "source": [
        "%reload_ext autoreload\n",
        "%autoreload 2\n",
        "%matplotlib inline"
      ],
      "execution_count": 0,
      "outputs": []
    },
    {
      "cell_type": "code",
      "metadata": {
        "id": "WzeJb8frPaCF",
        "colab_type": "code",
        "colab": {}
      },
      "source": [
        "from fastai.text import *"
      ],
      "execution_count": 0,
      "outputs": []
    },
    {
      "cell_type": "markdown",
      "metadata": {
        "id": "_sXnVsXTPaCJ",
        "colab_type": "text"
      },
      "source": [
        "## The data"
      ]
    },
    {
      "cell_type": "markdown",
      "metadata": {
        "id": "NyX60NoqPaCK",
        "colab_type": "text"
      },
      "source": [
        "We used the [Uber Ride Review Dataset](https://www.kaggle.com/purvank/uber-rider-reviews-dataset) .The dataset contains uber ride reviews from 2014-2017. It has 1342 reviews organized in 3 columns: \n",
        "1.   ride_review : review of the ride\n",
        "2.   ride_rating: the rating is from 1 to 5\n",
        "3.   ride_sentiment: if the rating is above 3  it is a positive sentiment(1), otherwise it's a negative sentiment(0).\n",
        "\n"
      ]
    },
    {
      "cell_type": "code",
      "metadata": {
        "id": "oYeIo5G5LOaJ",
        "colab_type": "code",
        "outputId": "da75e382-7346-457c-f1a2-958a7e991dfa",
        "colab": {
          "base_uri": "https://localhost:8080/",
          "height": 195
        }
      },
      "source": [
        "path = Path(base_dir + 'data/uber')\n",
        "df = pd.read_csv(path/'Uber_Ride_Reviews.csv')\n",
        "df.head()"
      ],
      "execution_count": 0,
      "outputs": [
        {
          "output_type": "execute_result",
          "data": {
            "text/html": [
              "<div>\n",
              "<style scoped>\n",
              "    .dataframe tbody tr th:only-of-type {\n",
              "        vertical-align: middle;\n",
              "    }\n",
              "\n",
              "    .dataframe tbody tr th {\n",
              "        vertical-align: top;\n",
              "    }\n",
              "\n",
              "    .dataframe thead th {\n",
              "        text-align: right;\n",
              "    }\n",
              "</style>\n",
              "<table border=\"1\" class=\"dataframe\">\n",
              "  <thead>\n",
              "    <tr style=\"text-align: right;\">\n",
              "      <th></th>\n",
              "      <th>ride_review</th>\n",
              "      <th>ride_rating</th>\n",
              "      <th>sentiment</th>\n",
              "    </tr>\n",
              "  </thead>\n",
              "  <tbody>\n",
              "    <tr>\n",
              "      <th>0</th>\n",
              "      <td>I completed running New York Marathon requeste...</td>\n",
              "      <td>1.0</td>\n",
              "      <td>0</td>\n",
              "    </tr>\n",
              "    <tr>\n",
              "      <th>1</th>\n",
              "      <td>My appointment time auto repairs required earl...</td>\n",
              "      <td>1.0</td>\n",
              "      <td>0</td>\n",
              "    </tr>\n",
              "    <tr>\n",
              "      <th>2</th>\n",
              "      <td>Whether I using Uber ride service Uber Eats or...</td>\n",
              "      <td>1.0</td>\n",
              "      <td>0</td>\n",
              "    </tr>\n",
              "    <tr>\n",
              "      <th>3</th>\n",
              "      <td>Why hard understand I trying retrieve Uber cab...</td>\n",
              "      <td>1.0</td>\n",
              "      <td>0</td>\n",
              "    </tr>\n",
              "    <tr>\n",
              "      <th>4</th>\n",
              "      <td>I South Beach FL I staying major hotel ordered...</td>\n",
              "      <td>1.0</td>\n",
              "      <td>0</td>\n",
              "    </tr>\n",
              "  </tbody>\n",
              "</table>\n",
              "</div>"
            ],
            "text/plain": [
              "                                         ride_review  ride_rating  sentiment\n",
              "0  I completed running New York Marathon requeste...          1.0          0\n",
              "1  My appointment time auto repairs required earl...          1.0          0\n",
              "2  Whether I using Uber ride service Uber Eats or...          1.0          0\n",
              "3  Why hard understand I trying retrieve Uber cab...          1.0          0\n",
              "4  I South Beach FL I staying major hotel ordered...          1.0          0"
            ]
          },
          "metadata": {
            "tags": []
          },
          "execution_count": 5
        }
      ]
    },
    {
      "cell_type": "markdown",
      "metadata": {
        "id": "15gP9KBjPaCk",
        "colab_type": "text"
      },
      "source": [
        "Images could be fed (almost) directly into a model because they're just a big array of pixel values that are floats between 0 and 1. A text is composed of words, and we can't apply mathematical functions to them directly. We first have to convert them into numbers. This is done in two differents steps: ***tokenization*** and ***numericalization***. `TextDataBunch` does all of that behind the scenes ."
      ]
    },
    {
      "cell_type": "markdown",
      "metadata": {
        "id": "RmR3Z4HHPaC8",
        "colab_type": "text"
      },
      "source": [
        "#### Tokenization"
      ]
    },
    {
      "cell_type": "markdown",
      "metadata": {
        "id": "0G3qyUsOPaC9",
        "colab_type": "text"
      },
      "source": [
        "It splits the raw sentences of the texts into words called tokens. We do this split of strings on spaces, but we consider other criteria such as punctuation, contractions of words, cleaning of HTML code...\n",
        "\n"
      ]
    },
    {
      "cell_type": "markdown",
      "metadata": {
        "id": "4eqfeIjbPaDC",
        "colab_type": "text"
      },
      "source": [
        "#### Numericalization"
      ]
    },
    {
      "cell_type": "markdown",
      "metadata": {
        "id": "QtfVCzkEPaDE",
        "colab_type": "text"
      },
      "source": [
        "Once we have extracted tokens from the texts, we convert them  into integers by creating a list of all the words used. We only keep the ones that appear at least twice and replace the ones that don't make the cut by the unknown token `UNK`. The correspondance from ids to tokens is stored in the `vocab` attribute of our datasets."
      ]
    },
    {
      "cell_type": "markdown",
      "metadata": {
        "id": "uaZ6ZlTePaDU",
        "colab_type": "text"
      },
      "source": [
        "#### With the data block API"
      ]
    },
    {
      "cell_type": "markdown",
      "metadata": {
        "id": "_W9AVgbMPaDV",
        "colab_type": "text"
      },
      "source": [
        "We can use the data block API with NLP."
      ]
    },
    {
      "cell_type": "markdown",
      "metadata": {
        "id": "j36YPz4pPaDb",
        "colab_type": "text"
      },
      "source": [
        "## Language model"
      ]
    },
    {
      "cell_type": "code",
      "metadata": {
        "id": "4TLyQUPlPaDd",
        "colab_type": "code",
        "colab": {}
      },
      "source": [
        "bs=30"
      ],
      "execution_count": 0,
      "outputs": []
    },
    {
      "cell_type": "code",
      "metadata": {
        "id": "pCZiKMk9PaDi",
        "colab_type": "code",
        "outputId": "aa345aa1-b2be-420a-9d19-4e0032c31d17",
        "colab": {
          "base_uri": "https://localhost:8080/",
          "height": 67
        }
      },
      "source": [
        "path = Path(base_dir + 'data/uber')\n",
        "path.ls()"
      ],
      "execution_count": 0,
      "outputs": [
        {
          "output_type": "execute_result",
          "data": {
            "text/plain": [
              "[PosixPath('/content/gdrive/My Drive/fastai-v3/data/uber/Uber_Ride_Reviews.csv'),\n",
              " PosixPath('/content/gdrive/My Drive/fastai-v3/data/uber/Uber_Ride_Reviews.gsheet'),\n",
              " PosixPath('/content/gdrive/My Drive/fastai-v3/data/uber/test')]"
            ]
          },
          "metadata": {
            "tags": []
          },
          "execution_count": 14
        }
      ]
    },
    {
      "cell_type": "markdown",
      "metadata": {
        "id": "yNiuqLvDPaDq",
        "colab_type": "text"
      },
      "source": [
        "The reviews are in a training and test set. We'll use a model pretrained on a bigger dataset (a cleaned subset of wikipedia called [wikitext-103](https://einstein.ai/research/blog/the-wikitext-long-term-dependency-language-modeling-dataset)). That model has been trained to guess what is the next word, its input being all the previous words. It has a recurrent structure and a hidden state that is updated each time it sees a new word. This hidden state thus contains information about the sentence up to that point.\n",
        "\n",
        "We are going to use that 'knowledge' of the English language to build our classifier, but first, we need to fine-tune the pretrained model to our particular dataset. Because the English of the reviews isn't the same as the English of wikipedia, we'll need to adjust the parameters of our model by a little bit. Plus there might be some words that would be extremely common in the reviews dataset but would be barely present in wikipedia, and therefore might not be part of the vocabulary the model was trained on."
      ]
    },
    {
      "cell_type": "code",
      "metadata": {
        "id": "jDjXGQfNPaDs",
        "colab_type": "code",
        "colab": {}
      },
      "source": [
        "data_lm = (TextList.from_folder(path)\n",
        "            .filter_by_folder(include=['test']) \n",
        "            .split_by_rand_pct(0.1)\n",
        "            .label_for_lm() \n",
        "            .databunch(bs=bs))\n",
        "data_lm.save('data_lm.pkl')"
      ],
      "execution_count": 0,
      "outputs": []
    },
    {
      "cell_type": "code",
      "metadata": {
        "id": "tSJjbGFPPaDv",
        "colab_type": "code",
        "colab": {}
      },
      "source": [
        "data_lm = load_data(path, 'data_lm.pkl', bs=bs)"
      ],
      "execution_count": 0,
      "outputs": []
    },
    {
      "cell_type": "code",
      "metadata": {
        "id": "O4bewYCFPaDz",
        "colab_type": "code",
        "outputId": "ae84bc6a-5f40-4c26-a49e-5c7803963966",
        "colab": {
          "base_uri": "https://localhost:8080/",
          "height": 296
        }
      },
      "source": [
        "data_lm.show_batch()"
      ],
      "execution_count": 0,
      "outputs": [
        {
          "output_type": "display_data",
          "data": {
            "text/html": [
              "<table border=\"1\" class=\"dataframe\">\n",
              "  <thead>\n",
              "    <tr style=\"text-align: right;\">\n",
              "      <th>idx</th>\n",
              "      <th>text</th>\n",
              "    </tr>\n",
              "  </thead>\n",
              "  <tbody>\n",
              "    <tr>\n",
              "      <td>0</td>\n",
              "      <td>xxbos xxmaj you probably fine try switch user xxup id account xxunk phone number forever xxmaj uber respond online support requests phone number call i tried three times get resolve problem ignored email responses \\n  xxbos xxmaj they suddenly blocked account xxmaj will respond emails tell \\n  xxbos crappy company zero stars treating drivers poorly get wonder xxunk rates percent xxunk sooner later wo drivers come pick customers</td>\n",
              "    </tr>\n",
              "    <tr>\n",
              "      <td>1</td>\n",
              "      <td>in xxup mins xxup they xxup have xxup no xxup xxunk xxup and xxup they xxup need xxup to b xxup shut xxup down xxup they xxup also xxup have xxup no xxup xxunk xxup insurance xxup so xxup if xxup your xxup driver xxup gets xxup in xxup an xxup accident xxup you xxup will xxup not xxup be xxup covered xxup how xxup unsafe xxup that xxup company</td>\n",
              "    </tr>\n",
              "    <tr>\n",
              "      <td>2</td>\n",
              "      <td>customer details sold web xxmaj no phone number contact use xxunk gave star minus button \\n  xxbos i purchased xxmaj uber gift card amount son use xxmaj he tried redeem however xxmaj uber asked credit card xxmaj hence xxunk xxmaj uber gift card xxmaj in attempt satisfy xxmaj uber request i purchased another gift card thinking act xxunk xxmaj instead xxmaj uber app requested son provide credit card info</td>\n",
              "    </tr>\n",
              "    <tr>\n",
              "      <td>3</td>\n",
              "      <td>xxmaj then ask information xxmaj are stealing info xxunk phone \\n  xxbos xxmaj uber xxunk standard upfront charges pool rides per promo provided kms i booked cab xxmaj saturday pm i showing however per drop location i charged i really know i charged much top xxmaj uber driver customer care number i told i giving money shown started giving xxunk said started talking xxunk xxmaj if pay i able</td>\n",
              "    </tr>\n",
              "    <tr>\n",
              "      <td>4</td>\n",
              "      <td>fool xxunk number i screenshot quite smart enough respond auto text i sent number listed got reply i smell xxunk xxup xxunk smell xxup hell xxmaj by way i one free text message numbers choose i born came site since i write speak xxmaj uber xxmaj soon life xxup fool i wrong i think xxmaj you tell i get xxmaj uber xxmaj since trip never made i write review xxmaj</td>\n",
              "    </tr>\n",
              "  </tbody>\n",
              "</table>"
            ],
            "text/plain": [
              "<IPython.core.display.HTML object>"
            ]
          },
          "metadata": {
            "tags": []
          }
        }
      ]
    },
    {
      "cell_type": "markdown",
      "metadata": {
        "id": "IIDhsYgnPaD2",
        "colab_type": "text"
      },
      "source": [
        "We put the learner object very easily with a model loaded with the pretrained weights."
      ]
    },
    {
      "cell_type": "code",
      "metadata": {
        "id": "LzYyKv_RPaD3",
        "colab_type": "code",
        "colab": {}
      },
      "source": [
        "learn = language_model_learner(data_lm, AWD_LSTM, drop_mult=0.3)"
      ],
      "execution_count": 0,
      "outputs": []
    },
    {
      "cell_type": "code",
      "metadata": {
        "id": "WOgH95dAPaD6",
        "colab_type": "code",
        "outputId": "66f6ddb8-8964-4f09-b4c5-8f1252423ee3",
        "colab": {
          "base_uri": "https://localhost:8080/",
          "height": 34
        }
      },
      "source": [
        "learn.lr_find()"
      ],
      "execution_count": 0,
      "outputs": [
        {
          "output_type": "display_data",
          "data": {
            "text/html": [
              ""
            ],
            "text/plain": [
              "<IPython.core.display.HTML object>"
            ]
          },
          "metadata": {
            "tags": []
          }
        },
        {
          "output_type": "stream",
          "text": [
            "LR Finder is complete, type {learner_name}.recorder.plot() to see the graph.\n"
          ],
          "name": "stdout"
        }
      ]
    },
    {
      "cell_type": "code",
      "metadata": {
        "id": "1QPcg56rPaD_",
        "colab_type": "code",
        "outputId": "2f20d6ff-759d-4ec1-c322-26e3b460aa55",
        "colab": {
          "base_uri": "https://localhost:8080/",
          "height": 283
        }
      },
      "source": [
        "learn.recorder.plot(skip_end=15)"
      ],
      "execution_count": 0,
      "outputs": [
        {
          "output_type": "display_data",
          "data": {
            "image/png": "[encoded data removed]",
            "text/plain": [
              "<Figure size 432x288 with 1 Axes>"
            ]
          },
          "metadata": {
            "tags": []
          }
        }
      ]
    },
    {
      "cell_type": "code",
      "metadata": {
        "id": "iG7vd7_uPaEE",
        "colab_type": "code",
        "outputId": "93cd8332-0aed-4947-9aaf-38d7d521d8e2",
        "colab": {
          "base_uri": "https://localhost:8080/",
          "height": 77
        }
      },
      "source": [
        "learn.fit_one_cycle(1, 1e-2, moms=(0.8,0.7))"
      ],
      "execution_count": 0,
      "outputs": [
        {
          "output_type": "display_data",
          "data": {
            "text/html": [
              "<table border=\"1\" class=\"dataframe\">\n",
              "  <thead>\n",
              "    <tr style=\"text-align: left;\">\n",
              "      <th>epoch</th>\n",
              "      <th>train_loss</th>\n",
              "      <th>valid_loss</th>\n",
              "      <th>accuracy</th>\n",
              "      <th>time</th>\n",
              "    </tr>\n",
              "  </thead>\n",
              "  <tbody>\n",
              "    <tr>\n",
              "      <td>0</td>\n",
              "      <td>4.865604</td>\n",
              "      <td>5.031974</td>\n",
              "      <td>0.190556</td>\n",
              "      <td>00:04</td>\n",
              "    </tr>\n",
              "  </tbody>\n",
              "</table>"
            ],
            "text/plain": [
              "<IPython.core.display.HTML object>"
            ]
          },
          "metadata": {
            "tags": []
          }
        }
      ]
    },
    {
      "cell_type": "code",
      "metadata": {
        "id": "vTJ1k5IHPaEI",
        "colab_type": "code",
        "colab": {}
      },
      "source": [
        "learn.save('fit_head')"
      ],
      "execution_count": 0,
      "outputs": []
    },
    {
      "cell_type": "code",
      "metadata": {
        "id": "QBkdLZ2wPaEM",
        "colab_type": "code",
        "colab": {}
      },
      "source": [
        "learn.load('fit_head');"
      ],
      "execution_count": 0,
      "outputs": []
    },
    {
      "cell_type": "markdown",
      "metadata": {
        "id": "N7wT09uTPaEQ",
        "colab_type": "text"
      },
      "source": [
        "To complete the fine-tuning, we can then unfeeze and launch a new training."
      ]
    },
    {
      "cell_type": "code",
      "metadata": {
        "id": "ZrX-HC4EPaER",
        "colab_type": "code",
        "colab": {}
      },
      "source": [
        "learn.unfreeze()"
      ],
      "execution_count": 0,
      "outputs": []
    },
    {
      "cell_type": "code",
      "metadata": {
        "id": "jicHzZl5PaEW",
        "colab_type": "code",
        "outputId": "b6d9cd05-deaf-4068-a47e-662b76c0a2a9",
        "colab": {
          "base_uri": "https://localhost:8080/",
          "height": 343
        }
      },
      "source": [
        "learn.fit_one_cycle(10, 1e-3, moms=(0.8,0.7))"
      ],
      "execution_count": 0,
      "outputs": [
        {
          "output_type": "display_data",
          "data": {
            "text/html": [
              "<table border=\"1\" class=\"dataframe\">\n",
              "  <thead>\n",
              "    <tr style=\"text-align: left;\">\n",
              "      <th>epoch</th>\n",
              "      <th>train_loss</th>\n",
              "      <th>valid_loss</th>\n",
              "      <th>accuracy</th>\n",
              "      <th>time</th>\n",
              "    </tr>\n",
              "  </thead>\n",
              "  <tbody>\n",
              "    <tr>\n",
              "      <td>0</td>\n",
              "      <td>4.597655</td>\n",
              "      <td>4.982333</td>\n",
              "      <td>0.195794</td>\n",
              "      <td>00:05</td>\n",
              "    </tr>\n",
              "    <tr>\n",
              "      <td>1</td>\n",
              "      <td>4.520119</td>\n",
              "      <td>4.936551</td>\n",
              "      <td>0.194206</td>\n",
              "      <td>00:05</td>\n",
              "    </tr>\n",
              "    <tr>\n",
              "      <td>2</td>\n",
              "      <td>4.369713</td>\n",
              "      <td>4.960112</td>\n",
              "      <td>0.188889</td>\n",
              "      <td>00:05</td>\n",
              "    </tr>\n",
              "    <tr>\n",
              "      <td>3</td>\n",
              "      <td>4.068884</td>\n",
              "      <td>5.045672</td>\n",
              "      <td>0.183254</td>\n",
              "      <td>00:05</td>\n",
              "    </tr>\n",
              "    <tr>\n",
              "      <td>4</td>\n",
              "      <td>3.665046</td>\n",
              "      <td>5.177329</td>\n",
              "      <td>0.177540</td>\n",
              "      <td>00:05</td>\n",
              "    </tr>\n",
              "    <tr>\n",
              "      <td>5</td>\n",
              "      <td>3.164816</td>\n",
              "      <td>5.437503</td>\n",
              "      <td>0.161270</td>\n",
              "      <td>00:05</td>\n",
              "    </tr>\n",
              "    <tr>\n",
              "      <td>6</td>\n",
              "      <td>2.675958</td>\n",
              "      <td>5.682334</td>\n",
              "      <td>0.153571</td>\n",
              "      <td>00:05</td>\n",
              "    </tr>\n",
              "    <tr>\n",
              "      <td>7</td>\n",
              "      <td>2.269920</td>\n",
              "      <td>5.820192</td>\n",
              "      <td>0.151587</td>\n",
              "      <td>00:05</td>\n",
              "    </tr>\n",
              "    <tr>\n",
              "      <td>8</td>\n",
              "      <td>1.999234</td>\n",
              "      <td>5.911433</td>\n",
              "      <td>0.147778</td>\n",
              "      <td>00:05</td>\n",
              "    </tr>\n",
              "    <tr>\n",
              "      <td>9</td>\n",
              "      <td>1.843849</td>\n",
              "      <td>5.937149</td>\n",
              "      <td>0.148175</td>\n",
              "      <td>00:06</td>\n",
              "    </tr>\n",
              "  </tbody>\n",
              "</table>"
            ],
            "text/plain": [
              "<IPython.core.display.HTML object>"
            ]
          },
          "metadata": {
            "tags": []
          }
        }
      ]
    },
    {
      "cell_type": "code",
      "metadata": {
        "id": "wt8KAB_tPaEY",
        "colab_type": "code",
        "colab": {}
      },
      "source": [
        "learn.save('fine_tuned')"
      ],
      "execution_count": 0,
      "outputs": []
    },
    {
      "cell_type": "markdown",
      "metadata": {
        "id": "RCz9jbD0PaEa",
        "colab_type": "text"
      },
      "source": [
        "How good is our model? Well let's try to see what it predicts after a few given words."
      ]
    },
    {
      "cell_type": "code",
      "metadata": {
        "id": "y4oeogv7PaEb",
        "colab_type": "code",
        "colab": {}
      },
      "source": [
        "learn.load('fine_tuned');"
      ],
      "execution_count": 0,
      "outputs": []
    },
    {
      "cell_type": "code",
      "metadata": {
        "id": "6-USTUEUPaEf",
        "colab_type": "code",
        "colab": {}
      },
      "source": [
        "TEXT = \"Uber is\"\n",
        "N_WORDS = 10\n",
        "N_SENTENCES = 2"
      ],
      "execution_count": 0,
      "outputs": []
    },
    {
      "cell_type": "code",
      "metadata": {
        "id": "nG8CHLQsPaEj",
        "colab_type": "code",
        "outputId": "79ae4a8f-d895-462a-fdc3-e033f54e42d0",
        "colab": {
          "base_uri": "https://localhost:8080/",
          "height": 50
        }
      },
      "source": [
        "print(\"\\n\".join(learn.predict(TEXT, N_WORDS, temperature=0.75) for _ in range(N_SENTENCES)))"
      ],
      "execution_count": 0,
      "outputs": [
        {
          "output_type": "stream",
          "text": [
            "Uber is common today They mind low prices low price taxis\n",
            "Uber is good making money It always worth good business worth\n"
          ],
          "name": "stdout"
        }
      ]
    },
    {
      "cell_type": "markdown",
      "metadata": {
        "id": "l1JQjZYvPaEp",
        "colab_type": "text"
      },
      "source": [
        "We save the model, but also its encoder which is responsible for creating and updating the hidden state."
      ]
    },
    {
      "cell_type": "code",
      "metadata": {
        "id": "td5XosqXPaEq",
        "colab_type": "code",
        "colab": {}
      },
      "source": [
        "learn.save_encoder('fine_tuned_enc')"
      ],
      "execution_count": 0,
      "outputs": []
    },
    {
      "cell_type": "markdown",
      "metadata": {
        "id": "ENrsM4LhPaEu",
        "colab_type": "text"
      },
      "source": [
        "## Classifier"
      ]
    },
    {
      "cell_type": "markdown",
      "metadata": {
        "id": "cnwhgkaSPaEu",
        "colab_type": "text"
      },
      "source": [
        "We want to know whehter a review is positive (1) or negative (0). We create a new data object and we save it."
      ]
    },
    {
      "cell_type": "code",
      "metadata": {
        "id": "IPUT29UPPaE5",
        "colab_type": "code",
        "colab": {}
      },
      "source": [
        " data_clas = (TextList.from_csv(path, 'Uber_Ride_Reviews.csv', cols=0,vocab=data_lm.vocab)\n",
        "             .split_by_rand_pct(0.2)\n",
        "             .label_from_df(cols=2)\n",
        "             .databunch())\n",
        "\n",
        "data_clas.save('data_clas.pkl')"
      ],
      "execution_count": 0,
      "outputs": []
    },
    {
      "cell_type": "code",
      "metadata": {
        "id": "NvpnQOtePaFA",
        "colab_type": "code",
        "colab": {}
      },
      "source": [
        "data_clas = load_data(path, 'data_clas.pkl', bs=bs)"
      ],
      "execution_count": 0,
      "outputs": []
    },
    {
      "cell_type": "code",
      "metadata": {
        "id": "dxSR2VSrPaFG",
        "colab_type": "code",
        "outputId": "2c8277cf-36a2-42fd-ac52-3f2ad7076114",
        "colab": {
          "base_uri": "https://localhost:8080/",
          "height": 313
        }
      },
      "source": [
        "data_clas.show_batch()"
      ],
      "execution_count": 0,
      "outputs": [
        {
          "output_type": "display_data",
          "data": {
            "text/html": [
              "<table border=\"1\" class=\"dataframe\">\n",
              "  <thead>\n",
              "    <tr style=\"text-align: right;\">\n",
              "      <th>text</th>\n",
              "      <th>target</th>\n",
              "    </tr>\n",
              "  </thead>\n",
              "  <tbody>\n",
              "    <tr>\n",
              "      <td>xxbos xxmaj danielle xxmaj sep xxup pdt i want personal info site i believe identity stolen xxmaj uber employee well fraud committed xxmaj if true employee used name xxup ssn xxup dob xxup dl apply credit accounts xxmaj thus far person applied credit cards xxmaj xxunk xxmaj finger xxmaj xxunk xxmaj pay xxmaj xxunk i found news today a person high authority xxup uber needs find xxmaj uber employee stolen</td>\n",
              "      <td>0</td>\n",
              "    </tr>\n",
              "    <tr>\n",
              "      <td>xxbos xxup uber xxup is xxup thee xxup most xxup xxunk xxup xxunk xxup company xxup in xxup xxunk xxup it xxup xxunk xxup even xxup be xxup in xxup arizona xxup if xxup xxunk xxup going xxup to xxup run xxup it xxup the xxup way xxup they xxup do xxup here xxup in xxup xxunk xxup the xxup only xxup fares xxup my xxup so xxup ever xxup</td>\n",
              "      <td>0</td>\n",
              "    </tr>\n",
              "    <tr>\n",
              "      <td>xxbos xxmaj this follow previous review xxmaj in xxmaj dallas xxmaj uber increased cut total take xxunk cost ride xxmaj now xxmaj uber charges cents per ride dollar cents fee per ride take top percent left xxmaj thus minimum ride ride miles xxunk xxmaj uber charge xxmaj the driver gets gross dollars cents xxmaj uber takes dollars cents xxmaj if xxunk enough give ride xxup xxunk student order take fast</td>\n",
              "      <td>0</td>\n",
              "    </tr>\n",
              "    <tr>\n",
              "      <td>xxbos xxmaj when i first began operating legal public xxunk transportation company serving island community xxmaj xxunk i desperate new business xxmaj uber find actual insured state county xxup licensed transportation company serve airport xxmaj after heavily xxunk put xxup bmw service airport assured decent compensation i took offer one xxunk customers ready xxup now pay fares i fool xxmaj uber available popular airport serving xxunk travelers xxup us legally</td>\n",
              "      <td>0</td>\n",
              "    </tr>\n",
              "    <tr>\n",
              "      <td>xxbos xxmaj uber one shady unethical companies ever created i stopped driving year ago decided try ubereats delivery person i figured better i drive people boy i wrong xxmaj first take every delivery xxmaj then enough delivery drivers i noticed i driving mins reach restaurant compensated pick order delivered location may mins away xxmaj giving driver whopping delivery i also gone pick orders arrive restaurant find order cancelled xxmaj uber</td>\n",
              "      <td>0</td>\n",
              "    </tr>\n",
              "  </tbody>\n",
              "</table>"
            ],
            "text/plain": [
              "<IPython.core.display.HTML object>"
            ]
          },
          "metadata": {
            "tags": []
          }
        }
      ]
    },
    {
      "cell_type": "markdown",
      "metadata": {
        "id": "FcU3o2ffPaFS",
        "colab_type": "text"
      },
      "source": [
        "We can then create a model to classify those reviews and load the encoder we saved before."
      ]
    },
    {
      "cell_type": "code",
      "metadata": {
        "id": "xchR7U0gPaFW",
        "colab_type": "code",
        "colab": {}
      },
      "source": [
        "learn = text_classifier_learner(data_clas, AWD_LSTM, drop_mult=0.5)\n",
        "learn.load_encoder('fine_tuned_enc')"
      ],
      "execution_count": 0,
      "outputs": []
    },
    {
      "cell_type": "code",
      "metadata": {
        "id": "NeVchJsvPaFZ",
        "colab_type": "code",
        "outputId": "8cf910e8-862d-4b99-809f-4bf83f545727",
        "colab": {
          "base_uri": "https://localhost:8080/",
          "height": 34
        }
      },
      "source": [
        "learn.lr_find()"
      ],
      "execution_count": 0,
      "outputs": [
        {
          "output_type": "display_data",
          "data": {
            "text/html": [
              ""
            ],
            "text/plain": [
              "<IPython.core.display.HTML object>"
            ]
          },
          "metadata": {
            "tags": []
          }
        },
        {
          "output_type": "stream",
          "text": [
            "LR Finder is complete, type {learner_name}.recorder.plot() to see the graph.\n"
          ],
          "name": "stdout"
        }
      ]
    },
    {
      "cell_type": "code",
      "metadata": {
        "id": "0DUMFMtJPaFe",
        "colab_type": "code",
        "outputId": "2585c95b-a316-4f7b-e7b3-00a8db509abc",
        "colab": {
          "base_uri": "https://localhost:8080/",
          "height": 283
        }
      },
      "source": [
        "learn.recorder.plot()"
      ],
      "execution_count": 0,
      "outputs": [
        {
          "output_type": "display_data",
          "data": {
            "image/png": "[encoded data removed]",
            "text/plain": [
              "<Figure size 432x288 with 1 Axes>"
            ]
          },
          "metadata": {
            "tags": []
          }
        }
      ]
    },
    {
      "cell_type": "code",
      "metadata": {
        "id": "wPlkPd1EPaFg",
        "colab_type": "code",
        "outputId": "5e1607d6-1679-4e82-a877-cc09dd28990a",
        "colab": {
          "base_uri": "https://localhost:8080/",
          "height": 77
        }
      },
      "source": [
        "learn.fit_one_cycle(1, 2e-2, moms=(0.8,0.7))"
      ],
      "execution_count": 0,
      "outputs": [
        {
          "output_type": "display_data",
          "data": {
            "text/html": [
              "<table border=\"1\" class=\"dataframe\">\n",
              "  <thead>\n",
              "    <tr style=\"text-align: left;\">\n",
              "      <th>epoch</th>\n",
              "      <th>train_loss</th>\n",
              "      <th>valid_loss</th>\n",
              "      <th>accuracy</th>\n",
              "      <th>time</th>\n",
              "    </tr>\n",
              "  </thead>\n",
              "  <tbody>\n",
              "    <tr>\n",
              "      <td>0</td>\n",
              "      <td>0.474510</td>\n",
              "      <td>0.322776</td>\n",
              "      <td>0.884328</td>\n",
              "      <td>00:03</td>\n",
              "    </tr>\n",
              "  </tbody>\n",
              "</table>"
            ],
            "text/plain": [
              "<IPython.core.display.HTML object>"
            ]
          },
          "metadata": {
            "tags": []
          }
        }
      ]
    },
    {
      "cell_type": "code",
      "metadata": {
        "id": "bbBM4e6gPaFm",
        "colab_type": "code",
        "colab": {}
      },
      "source": [
        "learn.save('first')"
      ],
      "execution_count": 0,
      "outputs": []
    },
    {
      "cell_type": "code",
      "metadata": {
        "id": "7Nx_egXOPaFt",
        "colab_type": "code",
        "colab": {}
      },
      "source": [
        "learn.load('first');"
      ],
      "execution_count": 0,
      "outputs": []
    },
    {
      "cell_type": "markdown",
      "metadata": {
        "id": "ZF0UhKK-Rl92",
        "colab_type": "text"
      },
      "source": [
        "We freeze up to the last layers and train more."
      ]
    },
    {
      "cell_type": "code",
      "metadata": {
        "id": "AA-MpNS2PaFw",
        "colab_type": "code",
        "outputId": "69e68755-3064-4163-fa03-77e9156d5f6f",
        "colab": {
          "base_uri": "https://localhost:8080/",
          "height": 77
        }
      },
      "source": [
        "learn.freeze_to(-2)\n",
        "learn.fit_one_cycle(1, slice(1e-2/(2.6**4),1e-2), moms=(0.8,0.7))"
      ],
      "execution_count": 0,
      "outputs": [
        {
          "output_type": "display_data",
          "data": {
            "text/html": [
              "<table border=\"1\" class=\"dataframe\">\n",
              "  <thead>\n",
              "    <tr style=\"text-align: left;\">\n",
              "      <th>epoch</th>\n",
              "      <th>train_loss</th>\n",
              "      <th>valid_loss</th>\n",
              "      <th>accuracy</th>\n",
              "      <th>time</th>\n",
              "    </tr>\n",
              "  </thead>\n",
              "  <tbody>\n",
              "    <tr>\n",
              "      <td>0</td>\n",
              "      <td>0.371350</td>\n",
              "      <td>0.307332</td>\n",
              "      <td>0.891791</td>\n",
              "      <td>00:04</td>\n",
              "    </tr>\n",
              "  </tbody>\n",
              "</table>"
            ],
            "text/plain": [
              "<IPython.core.display.HTML object>"
            ]
          },
          "metadata": {
            "tags": []
          }
        }
      ]
    },
    {
      "cell_type": "code",
      "metadata": {
        "id": "dtJkB31hPaF0",
        "colab_type": "code",
        "colab": {}
      },
      "source": [
        "learn.save('second')"
      ],
      "execution_count": 0,
      "outputs": []
    },
    {
      "cell_type": "code",
      "metadata": {
        "id": "TdqjAM4hPaF6",
        "colab_type": "code",
        "colab": {}
      },
      "source": [
        "learn.load('second');"
      ],
      "execution_count": 0,
      "outputs": []
    },
    {
      "cell_type": "code",
      "metadata": {
        "id": "fwWvF7r0PaF_",
        "colab_type": "code",
        "outputId": "480633d8-cbdb-4505-ac0b-dfa768d10919",
        "colab": {
          "base_uri": "https://localhost:8080/",
          "height": 77
        }
      },
      "source": [
        "learn.freeze_to(-3)\n",
        "learn.fit_one_cycle(1, slice(5e-3/(2.6**4),5e-3), moms=(0.8,0.7))"
      ],
      "execution_count": 0,
      "outputs": [
        {
          "output_type": "display_data",
          "data": {
            "text/html": [
              "<table border=\"1\" class=\"dataframe\">\n",
              "  <thead>\n",
              "    <tr style=\"text-align: left;\">\n",
              "      <th>epoch</th>\n",
              "      <th>train_loss</th>\n",
              "      <th>valid_loss</th>\n",
              "      <th>accuracy</th>\n",
              "      <th>time</th>\n",
              "    </tr>\n",
              "  </thead>\n",
              "  <tbody>\n",
              "    <tr>\n",
              "      <td>0</td>\n",
              "      <td>0.355858</td>\n",
              "      <td>0.288031</td>\n",
              "      <td>0.888060</td>\n",
              "      <td>00:06</td>\n",
              "    </tr>\n",
              "  </tbody>\n",
              "</table>"
            ],
            "text/plain": [
              "<IPython.core.display.HTML object>"
            ]
          },
          "metadata": {
            "tags": []
          }
        }
      ]
    },
    {
      "cell_type": "code",
      "metadata": {
        "id": "FkvT-I-PPaGG",
        "colab_type": "code",
        "colab": {}
      },
      "source": [
        "learn.save('third')"
      ],
      "execution_count": 0,
      "outputs": []
    },
    {
      "cell_type": "code",
      "metadata": {
        "id": "NBpzGP7QPaGJ",
        "colab_type": "code",
        "colab": {}
      },
      "source": [
        "learn.load('third');"
      ],
      "execution_count": 0,
      "outputs": []
    },
    {
      "cell_type": "code",
      "metadata": {
        "id": "-yuHsMaCPaGM",
        "colab_type": "code",
        "outputId": "416b81e2-be0f-4531-9562-043b7df90052",
        "colab": {
          "base_uri": "https://localhost:8080/",
          "height": 106
        }
      },
      "source": [
        "learn.unfreeze()\n",
        "learn.fit_one_cycle(2, slice(1e-3/(2.6**4),1e-3), moms=(0.8,0.7))"
      ],
      "execution_count": 0,
      "outputs": [
        {
          "output_type": "display_data",
          "data": {
            "text/html": [
              "<table border=\"1\" class=\"dataframe\">\n",
              "  <thead>\n",
              "    <tr style=\"text-align: left;\">\n",
              "      <th>epoch</th>\n",
              "      <th>train_loss</th>\n",
              "      <th>valid_loss</th>\n",
              "      <th>accuracy</th>\n",
              "      <th>time</th>\n",
              "    </tr>\n",
              "  </thead>\n",
              "  <tbody>\n",
              "    <tr>\n",
              "      <td>0</td>\n",
              "      <td>0.297812</td>\n",
              "      <td>0.281514</td>\n",
              "      <td>0.899254</td>\n",
              "      <td>00:07</td>\n",
              "    </tr>\n",
              "    <tr>\n",
              "      <td>1</td>\n",
              "      <td>0.273468</td>\n",
              "      <td>0.282237</td>\n",
              "      <td>0.899254</td>\n",
              "      <td>00:07</td>\n",
              "    </tr>\n",
              "  </tbody>\n",
              "</table>"
            ],
            "text/plain": [
              "<IPython.core.display.HTML object>"
            ]
          },
          "metadata": {
            "tags": []
          }
        }
      ]
    },
    {
      "cell_type": "markdown",
      "metadata": {
        "id": "GKO6csSWRxzg",
        "colab_type": "text"
      },
      "source": [
        "We test our model ."
      ]
    },
    {
      "cell_type": "code",
      "metadata": {
        "id": "465pGn1vPaGP",
        "colab_type": "code",
        "outputId": "2a7eb80e-bd48-44a7-eab1-b630d47dac94",
        "colab": {
          "base_uri": "https://localhost:8080/",
          "height": 34
        }
      },
      "source": [
        "learn.predict(\"I disliked the ride\")"
      ],
      "execution_count": 0,
      "outputs": [
        {
          "output_type": "execute_result",
          "data": {
            "text/plain": [
              "(Category 0, tensor(0), tensor([0.8598, 0.1402]))"
            ]
          },
          "metadata": {
            "tags": []
          },
          "execution_count": 61
        }
      ]
    },
    {
      "cell_type": "code",
      "metadata": {
        "id": "sDPSNRQBPaGS",
        "colab_type": "code",
        "colab": {}
      },
      "source": [
        ""
      ],
      "execution_count": 0,
      "outputs": []
    }
  ]
}